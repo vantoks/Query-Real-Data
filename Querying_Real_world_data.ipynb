{
    "cells": [
        {
            "cell_type": "markdown",
            "id": "f86e9bf6-7709-450e-b931-73340fdb6086",
            "metadata": {},
            "source": "# Connect to Data"
        },
        {
            "cell_type": "code",
            "execution_count": 20,
            "id": "8f5843d4-065f-44d5-82dc-fe49ec4df35d",
            "metadata": {},
            "outputs": [],
            "source": "#!pip install sqlalchemy==1.3.9\n#!pip install ibm_db_sa\n#!pip install ipython-sql # SQL magic function"
        },
        {
            "cell_type": "code",
            "execution_count": 5,
            "id": "4de110d8-fa86-4bee-8c27-b84791175b42",
            "metadata": {},
            "outputs": [],
            "source": "%load_ext sql"
        },
        {
            "cell_type": "code",
            "execution_count": 6,
            "id": "e3ff0b0a-c107-4c26-b359-2886f8f5898f",
            "metadata": {},
            "outputs": [],
            "source": "%sql ibm_db_sa://***************.c1ogj3sd0tgtu0lqde00.databases.appdomain.cloud:32733/bludb?security=SSL"
        },
        {
            "cell_type": "markdown",
            "id": "e4175eb4-3f9c-4cf4-afa4-1002fd0d8f5a",
            "metadata": {},
            "source": "# Visualize Data"
        },
        {
            "cell_type": "code",
            "execution_count": 7,
            "id": "e0ccd0ee-fc1e-4bbd-93df-b2e6c18da5d3",
            "metadata": {},
            "outputs": [
                {
                    "name": "stdout",
                    "output_type": "stream",
                    "text": " * ibm_db_sa://hkj71391:***@54a2f15b-5c0f-46df-8954-7e38e612c2bd.c1ogj3sd0tgtu0lqde00.databases.appdomain.cloud:32733/bludb\nDone.\n"
                },
                {
                    "data": {
                        "text/html": "<table>\n    <tr>\n        <th>id</th>\n        <th>case_number</th>\n        <th>DATE</th>\n        <th>block</th>\n        <th>iucr</th>\n        <th>primary_type</th>\n        <th>description</th>\n        <th>location_description</th>\n        <th>arrest</th>\n        <th>domestic</th>\n        <th>beat</th>\n        <th>district</th>\n        <th>ward</th>\n        <th>community_area_number</th>\n        <th>fbicode</th>\n        <th>x_coordinate</th>\n        <th>y_coordinate</th>\n        <th>YEAR</th>\n        <th>latitude</th>\n        <th>longitude</th>\n        <th>location</th>\n    </tr>\n    <tr>\n        <td>3512276</td>\n        <td>HK587712</td>\n        <td>2004-08-28</td>\n        <td>047XX S KEDZIE AVE</td>\n        <td>890</td>\n        <td>THEFT</td>\n        <td>FROM BUILDING</td>\n        <td>SMALL RETAIL STORE</td>\n        <td>FALSE</td>\n        <td>FALSE</td>\n        <td>911</td>\n        <td>9</td>\n        <td>14</td>\n        <td>58</td>\n        <td>6</td>\n        <td>1155838</td>\n        <td>1873050</td>\n        <td>2004</td>\n        <td>41.80744050</td>\n        <td>-87.70395585</td>\n        <td>(41.8074405, -87.703955849)</td>\n    </tr>\n    <tr>\n        <td>3406613</td>\n        <td>HK456306</td>\n        <td>2004-06-26</td>\n        <td>009XX N CENTRAL PARK AVE</td>\n        <td>820</td>\n        <td>THEFT</td>\n        <td>$500 AND UNDER</td>\n        <td>OTHER</td>\n        <td>FALSE</td>\n        <td>FALSE</td>\n        <td>1112</td>\n        <td>11</td>\n        <td>27</td>\n        <td>23</td>\n        <td>6</td>\n        <td>1152206</td>\n        <td>1906127</td>\n        <td>2004</td>\n        <td>41.89827996</td>\n        <td>-87.71640551</td>\n        <td>(41.898279962, -87.716405505)</td>\n    </tr>\n    <tr>\n        <td>8002131</td>\n        <td>HT233595</td>\n        <td>2011-04-04</td>\n        <td>043XX S WABASH AVE</td>\n        <td>820</td>\n        <td>THEFT</td>\n        <td>$500 AND UNDER</td>\n        <td>NURSING HOME/RETIREMENT HOME</td>\n        <td>FALSE</td>\n        <td>FALSE</td>\n        <td>221</td>\n        <td>2</td>\n        <td>3</td>\n        <td>38</td>\n        <td>6</td>\n        <td>1177436</td>\n        <td>1876313</td>\n        <td>2011</td>\n        <td>41.81593313</td>\n        <td>-87.62464213</td>\n        <td>(41.815933131, -87.624642127)</td>\n    </tr>\n    <tr>\n        <td>7903289</td>\n        <td>HT133522</td>\n        <td>2010-12-30</td>\n        <td>083XX S KINGSTON AVE</td>\n        <td>840</td>\n        <td>THEFT</td>\n        <td>FINANCIAL ID THEFT: OVER $300</td>\n        <td>RESIDENCE</td>\n        <td>FALSE</td>\n        <td>FALSE</td>\n        <td>423</td>\n        <td>4</td>\n        <td>7</td>\n        <td>46</td>\n        <td>6</td>\n        <td>1194622</td>\n        <td>1850125</td>\n        <td>2010</td>\n        <td>41.74366532</td>\n        <td>-87.56246276</td>\n        <td>(41.743665322, -87.562462756)</td>\n    </tr>\n    <tr>\n        <td>10402076</td>\n        <td>HZ138551</td>\n        <td>2016-02-02</td>\n        <td>033XX W 66TH ST</td>\n        <td>820</td>\n        <td>THEFT</td>\n        <td>$500 AND UNDER</td>\n        <td>ALLEY</td>\n        <td>FALSE</td>\n        <td>FALSE</td>\n        <td>831</td>\n        <td>8</td>\n        <td>15</td>\n        <td>66</td>\n        <td>6</td>\n        <td>1155240</td>\n        <td>1860661</td>\n        <td>2016</td>\n        <td>41.77345530</td>\n        <td>-87.70648047</td>\n        <td>(41.773455295, -87.706480471)</td>\n    </tr>\n</table>",
                        "text/plain": "[(3512276, 'HK587712', datetime.date(2004, 8, 28), '047XX S KEDZIE AVE', '890', 'THEFT', 'FROM BUILDING', 'SMALL RETAIL STORE', 'FALSE', 'FALSE', 911, 9, 14, 58, '6', 1155838, 1873050, 2004, Decimal('41.80744050'), Decimal('-87.70395585'), '(41.8074405, -87.703955849)'),\n (3406613, 'HK456306', datetime.date(2004, 6, 26), '009XX N CENTRAL PARK AVE', '820', 'THEFT', '$500 AND UNDER', 'OTHER', 'FALSE', 'FALSE', 1112, 11, 27, 23, '6', 1152206, 1906127, 2004, Decimal('41.89827996'), Decimal('-87.71640551'), '(41.898279962, -87.716405505)'),\n (8002131, 'HT233595', datetime.date(2011, 4, 4), '043XX S WABASH AVE', '820', 'THEFT', '$500 AND UNDER', 'NURSING HOME/RETIREMENT HOME', 'FALSE', 'FALSE', 221, 2, 3, 38, '6', 1177436, 1876313, 2011, Decimal('41.81593313'), Decimal('-87.62464213'), '(41.815933131, -87.624642127)'),\n (7903289, 'HT133522', datetime.date(2010, 12, 30), '083XX S KINGSTON AVE', '840', 'THEFT', 'FINANCIAL ID THEFT: OVER $300', 'RESIDENCE', 'FALSE', 'FALSE', 423, 4, 7, 46, '6', 1194622, 1850125, 2010, Decimal('41.74366532'), Decimal('-87.56246276'), '(41.743665322, -87.562462756)'),\n (10402076, 'HZ138551', datetime.date(2016, 2, 2), '033XX W 66TH ST', '820', 'THEFT', '$500 AND UNDER', 'ALLEY', 'FALSE', 'FALSE', 831, 8, 15, 66, '6', 1155240, 1860661, 2016, Decimal('41.77345530'), Decimal('-87.70648047'), '(41.773455295, -87.706480471)')]"
                    },
                    "execution_count": 7,
                    "metadata": {},
                    "output_type": "execute_result"
                }
            ],
            "source": "%sql SELECT * FROM CRIME_DATA limit 5;"
        },
        {
            "cell_type": "code",
            "execution_count": 8,
            "id": "36020b24-b232-4c0c-b696-266c4549ef1d",
            "metadata": {
                "tags": []
            },
            "outputs": [
                {
                    "name": "stdout",
                    "output_type": "stream",
                    "text": " * ibm_db_sa://hkj71391:***@54a2f15b-5c0f-46df-8954-7e38e612c2bd.c1ogj3sd0tgtu0lqde00.databases.appdomain.cloud:32733/bludb\nDone.\n"
                },
                {
                    "data": {
                        "text/html": "<table>\n    <tr>\n        <th>community_area_number</th>\n        <th>community_area_name</th>\n        <th>percent_of_housing_crowded</th>\n        <th>percent_households_below_poverty</th>\n        <th>percent_aged_16__unemployed</th>\n        <th>percent_aged_25__without_high_school_diploma</th>\n        <th>percent_aged_under_18_or_over_64</th>\n        <th>per_capita_income</th>\n        <th>hardship_index</th>\n    </tr>\n    <tr>\n        <td>1</td>\n        <td>Rogers Park</td>\n        <td>7.7</td>\n        <td>23.6</td>\n        <td>8.7</td>\n        <td>18.2</td>\n        <td>27.5</td>\n        <td>23939</td>\n        <td>39</td>\n    </tr>\n    <tr>\n        <td>2</td>\n        <td>West Ridge</td>\n        <td>7.8</td>\n        <td>17.2</td>\n        <td>8.8</td>\n        <td>20.8</td>\n        <td>38.5</td>\n        <td>23040</td>\n        <td>46</td>\n    </tr>\n    <tr>\n        <td>3</td>\n        <td>Uptown</td>\n        <td>3.8</td>\n        <td>24.0</td>\n        <td>8.9</td>\n        <td>11.8</td>\n        <td>22.2</td>\n        <td>35787</td>\n        <td>20</td>\n    </tr>\n    <tr>\n        <td>4</td>\n        <td>Lincoln Square</td>\n        <td>3.4</td>\n        <td>10.9</td>\n        <td>8.2</td>\n        <td>13.4</td>\n        <td>25.5</td>\n        <td>37524</td>\n        <td>17</td>\n    </tr>\n    <tr>\n        <td>5</td>\n        <td>North Center</td>\n        <td>0.3</td>\n        <td>7.5</td>\n        <td>5.2</td>\n        <td>4.5</td>\n        <td>26.2</td>\n        <td>57123</td>\n        <td>6</td>\n    </tr>\n</table>",
                        "text/plain": "[(1, 'Rogers Park', Decimal('7.7'), Decimal('23.6'), Decimal('8.7'), Decimal('18.2'), Decimal('27.5'), 23939, 39),\n (2, 'West Ridge', Decimal('7.8'), Decimal('17.2'), Decimal('8.8'), Decimal('20.8'), Decimal('38.5'), 23040, 46),\n (3, 'Uptown', Decimal('3.8'), Decimal('24.0'), Decimal('8.9'), Decimal('11.8'), Decimal('22.2'), 35787, 20),\n (4, 'Lincoln Square', Decimal('3.4'), Decimal('10.9'), Decimal('8.2'), Decimal('13.4'), Decimal('25.5'), 37524, 17),\n (5, 'North Center', Decimal('0.3'), Decimal('7.5'), Decimal('5.2'), Decimal('4.5'), Decimal('26.2'), 57123, 6)]"
                    },
                    "execution_count": 8,
                    "metadata": {},
                    "output_type": "execute_result"
                }
            ],
            "source": "%sql SELECT * FROM CENSUS_DATA limit 5;"
        },
        {
            "cell_type": "code",
            "execution_count": 9,
            "id": "2c236e1e-c2ff-4c5c-9e4e-f6f3b18855f7",
            "metadata": {},
            "outputs": [
                {
                    "name": "stdout",
                    "output_type": "stream",
                    "text": " * ibm_db_sa://hkj71391:***@54a2f15b-5c0f-46df-8954-7e38e612c2bd.c1ogj3sd0tgtu0lqde00.databases.appdomain.cloud:32733/bludb\nDone.\n"
                },
                {
                    "data": {
                        "text/html": "<table>\n    <tr>\n        <th>school_id</th>\n        <th>name_of_school</th>\n        <th>Elementary, Middle, or High School</th>\n        <th>street_address</th>\n        <th>city</th>\n        <th>state</th>\n        <th>zip_code</th>\n        <th>phone_number</th>\n        <th>link</th>\n        <th>network_manager</th>\n        <th>collaborative_name</th>\n        <th>adequate_yearly_progress_made_</th>\n        <th>track_schedule</th>\n        <th>cps_performance_policy_status</th>\n        <th>cps_performance_policy_level</th>\n        <th>healthy_school_certified</th>\n        <th>safety_icon</th>\n        <th>safety_score</th>\n        <th>family_involvement_icon</th>\n        <th>family_involvement_score</th>\n        <th>environment_icon</th>\n        <th>environment_score</th>\n        <th>instruction_icon</th>\n        <th>instruction_score</th>\n        <th>leaders_icon</th>\n        <th>leaders_score</th>\n        <th>teachers_icon</th>\n        <th>teachers_score</th>\n        <th>parent_engagement_icon</th>\n        <th>parent_engagement_score</th>\n        <th>parent_environment_icon</th>\n        <th>parent_environment_score</th>\n        <th>average_student_attendance</th>\n        <th>rate_of_misconducts__per_100_students_</th>\n        <th>average_teacher_attendance</th>\n        <th>individualized_education_program_compliance_rate</th>\n        <th>pk_2_literacy__</th>\n        <th>pk_2_math__</th>\n        <th>gr3_5_grade_level_math__</th>\n        <th>gr3_5_grade_level_read__</th>\n        <th>gr3_5_keep_pace_read__</th>\n        <th>gr3_5_keep_pace_math__</th>\n        <th>gr6_8_grade_level_math__</th>\n        <th>gr6_8_grade_level_read__</th>\n        <th>gr6_8_keep_pace_math_</th>\n        <th>gr6_8_keep_pace_read__</th>\n        <th>gr_8_explore_math__</th>\n        <th>gr_8_explore_read__</th>\n        <th>isat_exceeding_math__</th>\n        <th>isat_exceeding_reading__</th>\n        <th>isat_value_add_math</th>\n        <th>isat_value_add_read</th>\n        <th>isat_value_add_color_math</th>\n        <th>isat_value_add_color_read</th>\n        <th>students_taking__algebra__</th>\n        <th>students_passing__algebra__</th>\n        <th>9th Grade EXPLORE (2009)</th>\n        <th>9th Grade EXPLORE (2010)</th>\n        <th>10th Grade PLAN (2009)</th>\n        <th>10th Grade PLAN (2010)</th>\n        <th>net_change_explore_and_plan</th>\n        <th>11th Grade Average ACT (2011)</th>\n        <th>net_change_plan_and_act</th>\n        <th>college_eligibility__</th>\n        <th>graduation_rate__</th>\n        <th>college_enrollment_rate__</th>\n        <th>college_enrollment</th>\n        <th>general_services_route</th>\n        <th>freshman_on_track_rate__</th>\n        <th>x_coordinate</th>\n        <th>y_coordinate</th>\n        <th>latitude</th>\n        <th>longitude</th>\n        <th>community_area_number</th>\n        <th>community_area_name</th>\n        <th>ward</th>\n        <th>police_district</th>\n        <th>location</th>\n    </tr>\n    <tr>\n        <td>610038</td>\n        <td>Abraham Lincoln Elementary School</td>\n        <td>ES</td>\n        <td>615 W Kemper Pl</td>\n        <td>Chicago</td>\n        <td>IL</td>\n        <td>60614</td>\n        <td>(773) 534-5720</td>\n        <td>http://schoolreports.cps.edu/SchoolProgressReport_Eng/Spring2011Eng_610038.pdf</td>\n        <td>Fullerton Elementary Network</td>\n        <td>NORTH-NORTHWEST SIDE COLLABORATIVE</td>\n        <td>No</td>\n        <td>Standard</td>\n        <td>Not on Probation</td>\n        <td>Level 1</td>\n        <td>Yes</td>\n        <td>Very Strong</td>\n        <td>99</td>\n        <td>Very Strong</td>\n        <td>99</td>\n        <td>Strong</td>\n        <td>74</td>\n        <td>Strong</td>\n        <td>66</td>\n        <td>Weak</td>\n        <td>65</td>\n        <td>Strong</td>\n        <td>70</td>\n        <td>Strong</td>\n        <td>56</td>\n        <td>Average</td>\n        <td>47</td>\n        <td>96.00%</td>\n        <td>2.0</td>\n        <td>96.40%</td>\n        <td>95.80%</td>\n        <td>80.1</td>\n        <td>43.3</td>\n        <td>89.6</td>\n        <td>84.9</td>\n        <td>60.7</td>\n        <td>62.6</td>\n        <td>81.9</td>\n        <td>85.2</td>\n        <td>52</td>\n        <td>62.4</td>\n        <td>66.3</td>\n        <td>77.9</td>\n        <td>69.7</td>\n        <td>64.4</td>\n        <td>0.2</td>\n        <td>0.9</td>\n        <td>Yellow</td>\n        <td>Green</td>\n        <td>67.1</td>\n        <td>54.5</td>\n        <td>NDA</td>\n        <td>NDA</td>\n        <td>NDA</td>\n        <td>NDA</td>\n        <td>NDA</td>\n        <td>NDA</td>\n        <td>NDA</td>\n        <td>NDA</td>\n        <td>NDA</td>\n        <td>NDA</td>\n        <td>813</td>\n        <td>33</td>\n        <td>NDA</td>\n        <td>1171699.458</td>\n        <td>1915829.428</td>\n        <td>41.92449696</td>\n        <td>-87.64452163</td>\n        <td>7</td>\n        <td>LINCOLN PARK</td>\n        <td>43</td>\n        <td>18</td>\n        <td>(41.92449696, -87.64452163)</td>\n    </tr>\n    <tr>\n        <td>610281</td>\n        <td>Adam Clayton Powell Paideia Community Academy Elementary School</td>\n        <td>ES</td>\n        <td>7511 S South Shore Dr</td>\n        <td>Chicago</td>\n        <td>IL</td>\n        <td>60649</td>\n        <td>(773) 535-6650</td>\n        <td>http://schoolreports.cps.edu/SchoolProgressReport_Eng/Spring2011Eng_610281.pdf</td>\n        <td>Skyway Elementary Network</td>\n        <td>SOUTH SIDE COLLABORATIVE</td>\n        <td>No</td>\n        <td>Track_E</td>\n        <td>Not on Probation</td>\n        <td>Level 1</td>\n        <td>No</td>\n        <td>Average</td>\n        <td>54</td>\n        <td>Strong</td>\n        <td>66</td>\n        <td>Strong</td>\n        <td>74</td>\n        <td>Very Strong</td>\n        <td>84</td>\n        <td>Weak</td>\n        <td>63</td>\n        <td>Strong</td>\n        <td>76</td>\n        <td>Weak</td>\n        <td>46</td>\n        <td>Average</td>\n        <td>50</td>\n        <td>95.60%</td>\n        <td>15.7</td>\n        <td>95.30%</td>\n        <td>100.00%</td>\n        <td>62.4</td>\n        <td>51.7</td>\n        <td>21.9</td>\n        <td>15.1</td>\n        <td>29</td>\n        <td>42.8</td>\n        <td>38.5</td>\n        <td>27.4</td>\n        <td>44.8</td>\n        <td>42.7</td>\n        <td>14.1</td>\n        <td>34.4</td>\n        <td>16.8</td>\n        <td>16.5</td>\n        <td>0.7</td>\n        <td>1.4</td>\n        <td>Green</td>\n        <td>Green</td>\n        <td>17.2</td>\n        <td>27.3</td>\n        <td>NDA</td>\n        <td>NDA</td>\n        <td>NDA</td>\n        <td>NDA</td>\n        <td>NDA</td>\n        <td>NDA</td>\n        <td>NDA</td>\n        <td>NDA</td>\n        <td>NDA</td>\n        <td>NDA</td>\n        <td>521</td>\n        <td>46</td>\n        <td>NDA</td>\n        <td>1196129.985</td>\n        <td>1856209.466</td>\n        <td>41.76032435</td>\n        <td>-87.55673627</td>\n        <td>43</td>\n        <td>SOUTH SHORE</td>\n        <td>7</td>\n        <td>4</td>\n        <td>(41.76032435, -87.55673627)</td>\n    </tr>\n    <tr>\n        <td>610185</td>\n        <td>Adlai E Stevenson Elementary School</td>\n        <td>ES</td>\n        <td>8010 S Kostner Ave</td>\n        <td>Chicago</td>\n        <td>IL</td>\n        <td>60652</td>\n        <td>(773) 535-2280</td>\n        <td>http://schoolreports.cps.edu/SchoolProgressReport_Eng/Spring2011Eng_610185.pdf</td>\n        <td>Midway Elementary Network</td>\n        <td>SOUTHWEST SIDE COLLABORATIVE</td>\n        <td>No</td>\n        <td>Standard</td>\n        <td>Not on Probation</td>\n        <td>Level 2</td>\n        <td>No</td>\n        <td>Strong</td>\n        <td>61</td>\n        <td>NDA</td>\n        <td>NDA</td>\n        <td>Average</td>\n        <td>50</td>\n        <td>Weak</td>\n        <td>36</td>\n        <td>Weak</td>\n        <td>NDA</td>\n        <td>NDA</td>\n        <td>NDA</td>\n        <td>Average</td>\n        <td>47</td>\n        <td>Weak</td>\n        <td>41</td>\n        <td>95.70%</td>\n        <td>2.3</td>\n        <td>94.70%</td>\n        <td>98.30%</td>\n        <td>53.7</td>\n        <td>26.6</td>\n        <td>38.3</td>\n        <td>34.7</td>\n        <td>43.7</td>\n        <td>57.3</td>\n        <td>48.8</td>\n        <td>39.2</td>\n        <td>46.8</td>\n        <td>44</td>\n        <td>7.5</td>\n        <td>21.9</td>\n        <td>18.3</td>\n        <td>15.5</td>\n        <td>-0.9</td>\n        <td>-1.0</td>\n        <td>Red</td>\n        <td>Red</td>\n        <td>NDA</td>\n        <td>NDA</td>\n        <td>NDA</td>\n        <td>NDA</td>\n        <td>NDA</td>\n        <td>NDA</td>\n        <td>NDA</td>\n        <td>NDA</td>\n        <td>NDA</td>\n        <td>NDA</td>\n        <td>NDA</td>\n        <td>NDA</td>\n        <td>1324</td>\n        <td>44</td>\n        <td>NDA</td>\n        <td>1148427.165</td>\n        <td>1851012.215</td>\n        <td>41.74711093</td>\n        <td>-87.73170248</td>\n        <td>70</td>\n        <td>ASHBURN</td>\n        <td>13</td>\n        <td>8</td>\n        <td>(41.74711093, -87.73170248)</td>\n    </tr>\n    <tr>\n        <td>609993</td>\n        <td>Agustin Lara Elementary Academy</td>\n        <td>ES</td>\n        <td>4619 S Wolcott Ave</td>\n        <td>Chicago</td>\n        <td>IL</td>\n        <td>60609</td>\n        <td>(773) 535-4389</td>\n        <td>http://schoolreports.cps.edu/SchoolProgressReport_Eng/Spring2011Eng_609993.pdf</td>\n        <td>Pershing Elementary Network</td>\n        <td>SOUTHWEST SIDE COLLABORATIVE</td>\n        <td>No</td>\n        <td>Track_E</td>\n        <td>Not on Probation</td>\n        <td>Level 1</td>\n        <td>No</td>\n        <td>Average</td>\n        <td>56</td>\n        <td>Average</td>\n        <td>44</td>\n        <td>Average</td>\n        <td>45</td>\n        <td>Weak</td>\n        <td>37</td>\n        <td>Weak</td>\n        <td>65</td>\n        <td>Average</td>\n        <td>48</td>\n        <td>Average</td>\n        <td>53</td>\n        <td>Strong</td>\n        <td>58</td>\n        <td>95.50%</td>\n        <td>10.4</td>\n        <td>95.80%</td>\n        <td>100.00%</td>\n        <td>76.9</td>\n        <td>NDA</td>\n        <td>26</td>\n        <td>24.7</td>\n        <td>61.8</td>\n        <td>49.7</td>\n        <td>39.2</td>\n        <td>27.2</td>\n        <td>69.7</td>\n        <td>60.6</td>\n        <td>9.1</td>\n        <td>18.2</td>\n        <td>11.1</td>\n        <td>9.6</td>\n        <td>0.9</td>\n        <td>2.4</td>\n        <td>Green</td>\n        <td>Green</td>\n        <td>42.9</td>\n        <td>25</td>\n        <td>NDA</td>\n        <td>NDA</td>\n        <td>NDA</td>\n        <td>NDA</td>\n        <td>NDA</td>\n        <td>NDA</td>\n        <td>NDA</td>\n        <td>NDA</td>\n        <td>NDA</td>\n        <td>NDA</td>\n        <td>556</td>\n        <td>42</td>\n        <td>NDA</td>\n        <td>1164504.290</td>\n        <td>1873959.199</td>\n        <td>41.80975690</td>\n        <td>-87.67214460</td>\n        <td>61</td>\n        <td>NEW CITY</td>\n        <td>20</td>\n        <td>9</td>\n        <td>(41.8097569, -87.6721446)</td>\n    </tr>\n    <tr>\n        <td>610513</td>\n        <td>Air Force Academy High School</td>\n        <td>HS</td>\n        <td>3630 S Wells St</td>\n        <td>Chicago</td>\n        <td>IL</td>\n        <td>60609</td>\n        <td>(773) 535-1590</td>\n        <td>http://schoolreports.cps.edu/SchoolProgressReport_Eng/Spring2011Eng_610513.pdf</td>\n        <td>Southwest Side High School Network</td>\n        <td>SOUTHWEST SIDE COLLABORATIVE</td>\n        <td>NDA</td>\n        <td>Standard</td>\n        <td>Not on Probation</td>\n        <td>Not Enough Data</td>\n        <td>Yes</td>\n        <td>Average</td>\n        <td>49</td>\n        <td>Strong</td>\n        <td>60</td>\n        <td>Strong</td>\n        <td>60</td>\n        <td>Average</td>\n        <td>55</td>\n        <td>Weak</td>\n        <td>45</td>\n        <td>Average</td>\n        <td>54</td>\n        <td>Average</td>\n        <td>53</td>\n        <td>Average</td>\n        <td>49</td>\n        <td>93.30%</td>\n        <td>15.6</td>\n        <td>96.90%</td>\n        <td>100.00%</td>\n        <td>NDA</td>\n        <td>NDA</td>\n        <td>NDA</td>\n        <td>NDA</td>\n        <td>NDA</td>\n        <td>NDA</td>\n        <td>NDA</td>\n        <td>NDA</td>\n        <td>NDA</td>\n        <td>NDA</td>\n        <td>NDA</td>\n        <td>NDA</td>\n        <td>None</td>\n        <td>None</td>\n        <td>None</td>\n        <td>None</td>\n        <td>NDA</td>\n        <td>NDA</td>\n        <td>NDA</td>\n        <td>NDA</td>\n        <td>14.6</td>\n        <td>14.8</td>\n        <td>NDA</td>\n        <td>16</td>\n        <td>1.4</td>\n        <td>NDA</td>\n        <td>NDA</td>\n        <td>NDA</td>\n        <td>NDA</td>\n        <td>NDA</td>\n        <td>302</td>\n        <td>40</td>\n        <td>91.8</td>\n        <td>1175177.622</td>\n        <td>1880745.126</td>\n        <td>41.82814609</td>\n        <td>-87.63279369</td>\n        <td>34</td>\n        <td>ARMOUR SQUARE</td>\n        <td>11</td>\n        <td>9</td>\n        <td>(41.82814609, -87.63279369)</td>\n    </tr>\n</table>",
                        "text/plain": "[(610038, 'Abraham Lincoln Elementary School', 'ES', '615 W Kemper Pl', 'Chicago', 'IL', 60614, '(773) 534-5720', 'http://schoolreports.cps.edu/SchoolProgressReport_Eng/Spring2011Eng_610038.pdf', 'Fullerton Elementary Network', 'NORTH-NORTHWEST SIDE COLLABORATIVE', 'No', 'Standard', 'Not on Probation', 'Level 1', 'Yes', 'Very Strong', 99, 'Very Strong', '99', 'Strong', 74, 'Strong', 66, 'Weak', '65', 'Strong', '70', 'Strong', '56', 'Average', '47', '96.00%', Decimal('2.0'), '96.40%', '95.80%', '80.1', '43.3', '89.6', '84.9', '60.7', '62.6', '81.9', '85.2', '52', '62.4', '66.3', '77.9', Decimal('69.7'), Decimal('64.4'), Decimal('0.2'), Decimal('0.9'), 'Yellow', 'Green', '67.1', '54.5', 'NDA', 'NDA', 'NDA', 'NDA', 'NDA', 'NDA', 'NDA', 'NDA', 'NDA', 'NDA', 813, 33, 'NDA', Decimal('1171699.458'), Decimal('1915829.428'), Decimal('41.92449696'), Decimal('-87.64452163'), 7, 'LINCOLN PARK', 43, 18, '(41.92449696, -87.64452163)'),\n (610281, 'Adam Clayton Powell Paideia Community Academy Elementary School', 'ES', '7511 S South Shore Dr', 'Chicago', 'IL', 60649, '(773) 535-6650', 'http://schoolreports.cps.edu/SchoolProgressReport_Eng/Spring2011Eng_610281.pdf', 'Skyway Elementary Network', 'SOUTH SIDE COLLABORATIVE', 'No', 'Track_E', 'Not on Probation', 'Level 1', 'No', 'Average', 54, 'Strong', '66', 'Strong', 74, 'Very Strong', 84, 'Weak', '63', 'Strong', '76', 'Weak', '46', 'Average', '50', '95.60%', Decimal('15.7'), '95.30%', '100.00%', '62.4', '51.7', '21.9', '15.1', '29', '42.8', '38.5', '27.4', '44.8', '42.7', '14.1', '34.4', Decimal('16.8'), Decimal('16.5'), Decimal('0.7'), Decimal('1.4'), 'Green', 'Green', '17.2', '27.3', 'NDA', 'NDA', 'NDA', 'NDA', 'NDA', 'NDA', 'NDA', 'NDA', 'NDA', 'NDA', 521, 46, 'NDA', Decimal('1196129.985'), Decimal('1856209.466'), Decimal('41.76032435'), Decimal('-87.55673627'), 43, 'SOUTH SHORE', 7, 4, '(41.76032435, -87.55673627)'),\n (610185, 'Adlai E Stevenson Elementary School', 'ES', '8010 S Kostner Ave', 'Chicago', 'IL', 60652, '(773) 535-2280', 'http://schoolreports.cps.edu/SchoolProgressReport_Eng/Spring2011Eng_610185.pdf', 'Midway Elementary Network', 'SOUTHWEST SIDE COLLABORATIVE', 'No', 'Standard', 'Not on Probation', 'Level 2', 'No', 'Strong', 61, 'NDA', 'NDA', 'Average', 50, 'Weak', 36, 'Weak', 'NDA', 'NDA', 'NDA', 'Average', '47', 'Weak', '41', '95.70%', Decimal('2.3'), '94.70%', '98.30%', '53.7', '26.6', '38.3', '34.7', '43.7', '57.3', '48.8', '39.2', '46.8', '44', '7.5', '21.9', Decimal('18.3'), Decimal('15.5'), Decimal('-0.9'), Decimal('-1.0'), 'Red', 'Red', 'NDA', 'NDA', 'NDA', 'NDA', 'NDA', 'NDA', 'NDA', 'NDA', 'NDA', 'NDA', 'NDA', 'NDA', 1324, 44, 'NDA', Decimal('1148427.165'), Decimal('1851012.215'), Decimal('41.74711093'), Decimal('-87.73170248'), 70, 'ASHBURN', 13, 8, '(41.74711093, -87.73170248)'),\n (609993, 'Agustin Lara Elementary Academy', 'ES', '4619 S Wolcott Ave', 'Chicago', 'IL', 60609, '(773) 535-4389', 'http://schoolreports.cps.edu/SchoolProgressReport_Eng/Spring2011Eng_609993.pdf', 'Pershing Elementary Network', 'SOUTHWEST SIDE COLLABORATIVE', 'No', 'Track_E', 'Not on Probation', 'Level 1', 'No', 'Average', 56, 'Average', '44', 'Average', 45, 'Weak', 37, 'Weak', '65', 'Average', '48', 'Average', '53', 'Strong', '58', '95.50%', Decimal('10.4'), '95.80%', '100.00%', '76.9', 'NDA', '26', '24.7', '61.8', '49.7', '39.2', '27.2', '69.7', '60.6', '9.1', '18.2', Decimal('11.1'), Decimal('9.6'), Decimal('0.9'), Decimal('2.4'), 'Green', 'Green', '42.9', '25', 'NDA', 'NDA', 'NDA', 'NDA', 'NDA', 'NDA', 'NDA', 'NDA', 'NDA', 'NDA', 556, 42, 'NDA', Decimal('1164504.290'), Decimal('1873959.199'), Decimal('41.80975690'), Decimal('-87.67214460'), 61, 'NEW CITY', 20, 9, '(41.8097569, -87.6721446)'),\n (610513, 'Air Force Academy High School', 'HS', '3630 S Wells St', 'Chicago', 'IL', 60609, '(773) 535-1590', 'http://schoolreports.cps.edu/SchoolProgressReport_Eng/Spring2011Eng_610513.pdf', 'Southwest Side High School Network', 'SOUTHWEST SIDE COLLABORATIVE', 'NDA', 'Standard', 'Not on Probation', 'Not Enough Data', 'Yes', 'Average', 49, 'Strong', '60', 'Strong', 60, 'Average', 55, 'Weak', '45', 'Average', '54', 'Average', '53', 'Average', '49', '93.30%', Decimal('15.6'), '96.90%', '100.00%', 'NDA', 'NDA', 'NDA', 'NDA', 'NDA', 'NDA', 'NDA', 'NDA', 'NDA', 'NDA', 'NDA', 'NDA', None, None, None, None, 'NDA', 'NDA', 'NDA', 'NDA', '14.6', '14.8', 'NDA', '16', '1.4', 'NDA', 'NDA', 'NDA', 'NDA', 'NDA', 302, 40, '91.8', Decimal('1175177.622'), Decimal('1880745.126'), Decimal('41.82814609'), Decimal('-87.63279369'), 34, 'ARMOUR SQUARE', 11, 9, '(41.82814609, -87.63279369)')]"
                    },
                    "execution_count": 9,
                    "metadata": {},
                    "output_type": "execute_result"
                }
            ],
            "source": "%sql SELECT * FROM PUBLIC_SCHOOLS limit 5;"
        },
        {
            "cell_type": "markdown",
            "id": "e38f9ed5-0ef3-4b8b-946c-4ea27459ec65",
            "metadata": {},
            "source": "### Total number of crimes recorded in the crime table"
        },
        {
            "cell_type": "code",
            "execution_count": 10,
            "id": "d21849d0-9567-4d63-9adb-e01cd48ebb3e",
            "metadata": {},
            "outputs": [
                {
                    "name": "stdout",
                    "output_type": "stream",
                    "text": " * ibm_db_sa://hkj71391:***@54a2f15b-5c0f-46df-8954-7e38e612c2bd.c1ogj3sd0tgtu0lqde00.databases.appdomain.cloud:32733/bludb\nDone.\n"
                },
                {
                    "data": {
                        "text/html": "<table>\n    <tr>\n        <th>1</th>\n    </tr>\n    <tr>\n        <td>533</td>\n    </tr>\n</table>",
                        "text/plain": "[(533,)]"
                    },
                    "execution_count": 10,
                    "metadata": {},
                    "output_type": "execute_result"
                }
            ],
            "source": "%%sql\nselect count(case_number) from CRIME_DATA"
        },
        {
            "cell_type": "markdown",
            "id": "f07e4acf-bf96-455b-9e71-ac7112115e78",
            "metadata": {},
            "source": "### Community areas with per capita income less than 11000"
        },
        {
            "cell_type": "code",
            "execution_count": 11,
            "id": "1a617509-a4e5-4e85-92ba-4024bac36fd5",
            "metadata": {},
            "outputs": [
                {
                    "name": "stdout",
                    "output_type": "stream",
                    "text": " * ibm_db_sa://hkj71391:***@54a2f15b-5c0f-46df-8954-7e38e612c2bd.c1ogj3sd0tgtu0lqde00.databases.appdomain.cloud:32733/bludb\nDone.\n"
                },
                {
                    "data": {
                        "text/html": "<table>\n    <tr>\n        <th>community_area_name</th>\n        <th>per_capita_income</th>\n    </tr>\n    <tr>\n        <td>West Garfield Park</td>\n        <td>10934</td>\n    </tr>\n    <tr>\n        <td>South Lawndale</td>\n        <td>10402</td>\n    </tr>\n    <tr>\n        <td>Fuller Park</td>\n        <td>10432</td>\n    </tr>\n    <tr>\n        <td>Riverdale</td>\n        <td>8201</td>\n    </tr>\n</table>",
                        "text/plain": "[('West Garfield Park', 10934),\n ('South Lawndale', 10402),\n ('Fuller Park', 10432),\n ('Riverdale', 8201)]"
                    },
                    "execution_count": 11,
                    "metadata": {},
                    "output_type": "execute_result"
                }
            ],
            "source": "%%sql\nselect community_area_name, per_capita_income from CENSUS_DATA where per_capita_income < 11000;"
        },
        {
            "cell_type": "markdown",
            "id": "08280a77-cc79-4152-a6e6-b5b2e08839ce",
            "metadata": {},
            "source": "### All case numbers for crimes involving minors"
        },
        {
            "cell_type": "code",
            "execution_count": 12,
            "id": "d5b7e2a5-1351-400f-af43-0bcfc1e4cf0a",
            "metadata": {},
            "outputs": [
                {
                    "name": "stdout",
                    "output_type": "stream",
                    "text": " * ibm_db_sa://hkj71391:***@54a2f15b-5c0f-46df-8954-7e38e612c2bd.c1ogj3sd0tgtu0lqde00.databases.appdomain.cloud:32733/bludb\nDone.\n"
                },
                {
                    "data": {
                        "text/html": "<table>\n    <tr>\n        <th>case_number</th>\n        <th>description</th>\n    </tr>\n    <tr>\n        <td>HL266884</td>\n        <td>SELL/GIVE/DEL LIQUOR TO MINOR</td>\n    </tr>\n    <tr>\n        <td>HK238408</td>\n        <td>ILLEGAL CONSUMPTION BY MINOR</td>\n    </tr>\n</table>",
                        "text/plain": "[('HL266884', 'SELL/GIVE/DEL LIQUOR TO MINOR'),\n ('HK238408', 'ILLEGAL CONSUMPTION BY MINOR')]"
                    },
                    "execution_count": 12,
                    "metadata": {},
                    "output_type": "execute_result"
                }
            ],
            "source": "%%sql\nselect case_number, description from CRIME_DATA\nWHERE description like '%MINOR%';"
        },
        {
            "cell_type": "markdown",
            "id": "93eb3b16-7fcc-457e-b647-cbdbbac4719f",
            "metadata": {},
            "source": "### All kidnapping crimes involving a child (children are not considered minors for the purposes of crime analysis)"
        },
        {
            "cell_type": "code",
            "execution_count": 13,
            "id": "ded19a3c-7b36-46ce-bbcc-88d6884a18c0",
            "metadata": {},
            "outputs": [
                {
                    "name": "stdout",
                    "output_type": "stream",
                    "text": " * ibm_db_sa://hkj71391:***@54a2f15b-5c0f-46df-8954-7e38e612c2bd.c1ogj3sd0tgtu0lqde00.databases.appdomain.cloud:32733/bludb\nDone.\n"
                },
                {
                    "data": {
                        "text/html": "<table>\n    <tr>\n        <th>id</th>\n        <th>case_number</th>\n        <th>DATE</th>\n        <th>block</th>\n        <th>iucr</th>\n        <th>primary_type</th>\n        <th>description</th>\n        <th>location_description</th>\n        <th>arrest</th>\n        <th>domestic</th>\n        <th>beat</th>\n        <th>district</th>\n        <th>ward</th>\n        <th>community_area_number</th>\n        <th>fbicode</th>\n        <th>x_coordinate</th>\n        <th>y_coordinate</th>\n        <th>YEAR</th>\n        <th>latitude</th>\n        <th>longitude</th>\n        <th>location</th>\n    </tr>\n    <tr>\n        <td>5276766</td>\n        <td>HN144152</td>\n        <td>2007-01-26</td>\n        <td>050XX W VAN BUREN ST</td>\n        <td>1792</td>\n        <td>KIDNAPPING</td>\n        <td>CHILD ABDUCTION/STRANGER</td>\n        <td>STREET</td>\n        <td>FALSE</td>\n        <td>FALSE</td>\n        <td>1533</td>\n        <td>15</td>\n        <td>29</td>\n        <td>25</td>\n        <td>20</td>\n        <td>1143050</td>\n        <td>1897546</td>\n        <td>2007</td>\n        <td>41.87490841</td>\n        <td>-87.75024931</td>\n        <td>(41.874908413, -87.750249307)</td>\n    </tr>\n</table>",
                        "text/plain": "[(5276766, 'HN144152', datetime.date(2007, 1, 26), '050XX W VAN BUREN ST', '1792', 'KIDNAPPING', 'CHILD ABDUCTION/STRANGER', 'STREET', 'FALSE', 'FALSE', 1533, 15, 29, 25, '20', 1143050, 1897546, 2007, Decimal('41.87490841'), Decimal('-87.75024931'), '(41.874908413, -87.750249307)')]"
                    },
                    "execution_count": 13,
                    "metadata": {},
                    "output_type": "execute_result"
                }
            ],
            "source": "%%sql\nselect * from CRIME_DATA\nWHERE description like '%CHILD%' AND primary_type = 'KIDNAPPING';"
        },
        {
            "cell_type": "markdown",
            "id": "65b51be6-f113-458e-b1ae-e718c21c22fd",
            "metadata": {},
            "source": "### Crimes recorded at schools"
        },
        {
            "cell_type": "code",
            "execution_count": 14,
            "id": "0cebbbc7-42ab-4598-b27e-39156cbce1c3",
            "metadata": {},
            "outputs": [
                {
                    "name": "stdout",
                    "output_type": "stream",
                    "text": " * ibm_db_sa://hkj71391:***@54a2f15b-5c0f-46df-8954-7e38e612c2bd.c1ogj3sd0tgtu0lqde00.databases.appdomain.cloud:32733/bludb\nDone.\n"
                },
                {
                    "data": {
                        "text/html": "<table>\n    <tr>\n        <th>primary_type</th>\n    </tr>\n    <tr>\n        <td>ASSAULT</td>\n    </tr>\n    <tr>\n        <td>BATTERY</td>\n    </tr>\n    <tr>\n        <td>CRIMINAL DAMAGE</td>\n    </tr>\n    <tr>\n        <td>CRIMINAL TRESPA</td>\n    </tr>\n    <tr>\n        <td>NARCOTICS</td>\n    </tr>\n    <tr>\n        <td>PUBLIC PEACE VI</td>\n    </tr>\n</table>",
                        "text/plain": "[('ASSAULT',),\n ('BATTERY',),\n ('CRIMINAL DAMAGE',),\n ('CRIMINAL TRESPA',),\n ('NARCOTICS',),\n ('PUBLIC PEACE VI',)]"
                    },
                    "execution_count": 14,
                    "metadata": {},
                    "output_type": "execute_result"
                }
            ],
            "source": "%%sql\nselect distinct primary_type from CRIME_DATA where location_description like 'SCHOOL%';"
        },
        {
            "cell_type": "markdown",
            "id": "6815f768-e01a-43ad-a128-9a55cfa8e7a2",
            "metadata": {},
            "source": "### Average safety score for all types of schools"
        },
        {
            "cell_type": "code",
            "execution_count": 15,
            "id": "f17d952d-bf5d-4db9-a241-389f8cf18347",
            "metadata": {},
            "outputs": [
                {
                    "name": "stdout",
                    "output_type": "stream",
                    "text": " * ibm_db_sa://hkj71391:***@54a2f15b-5c0f-46df-8954-7e38e612c2bd.c1ogj3sd0tgtu0lqde00.databases.appdomain.cloud:32733/bludb\nDone.\n"
                },
                {
                    "data": {
                        "text/html": "<table>\n    <tr>\n        <th>Elementary, Middle, or High School</th>\n        <th>average_safety_score</th>\n    </tr>\n    <tr>\n        <td>ES</td>\n        <td>49</td>\n    </tr>\n    <tr>\n        <td>HS</td>\n        <td>49</td>\n    </tr>\n    <tr>\n        <td>MS</td>\n        <td>48</td>\n    </tr>\n</table>",
                        "text/plain": "[('ES', 49), ('HS', 49), ('MS', 48)]"
                    },
                    "execution_count": 15,
                    "metadata": {},
                    "output_type": "execute_result"
                }
            ],
            "source": "%%sql\nselect \"Elementary, Middle, or High School\", AVG(safety_score) as average_safety_score from PUBLIC_SCHOOLS\ngroup by \"Elementary, Middle, or High School\""
        },
        {
            "cell_type": "markdown",
            "id": "8a492c05-7c32-474c-84c8-b8d35dd4b78f",
            "metadata": {},
            "source": "### Community areas with highest % of households below poverty line"
        },
        {
            "cell_type": "code",
            "execution_count": 16,
            "id": "ecf9978f-a167-47c2-addf-14bdb521bb36",
            "metadata": {},
            "outputs": [
                {
                    "name": "stdout",
                    "output_type": "stream",
                    "text": " * ibm_db_sa://hkj71391:***@54a2f15b-5c0f-46df-8954-7e38e612c2bd.c1ogj3sd0tgtu0lqde00.databases.appdomain.cloud:32733/bludb\nDone.\n"
                },
                {
                    "data": {
                        "text/html": "<table>\n    <tr>\n        <th>community_area_name</th>\n    </tr>\n    <tr>\n        <td>Riverdale</td>\n    </tr>\n    <tr>\n        <td>Fuller Park</td>\n    </tr>\n    <tr>\n        <td>Englewood</td>\n    </tr>\n    <tr>\n        <td>North Lawndale</td>\n    </tr>\n    <tr>\n        <td>East Garfield Park</td>\n    </tr>\n</table>",
                        "text/plain": "[('Riverdale',),\n ('Fuller Park',),\n ('Englewood',),\n ('North Lawndale',),\n ('East Garfield Park',)]"
                    },
                    "execution_count": 16,
                    "metadata": {},
                    "output_type": "execute_result"
                }
            ],
            "source": "%%sql\nselect community_area_name from(\nSELECT community_area_name, percent_households_below_poverty from CENSUS_DATA  \norder by percent_households_below_poverty DESC \nlimit 5);"
        },
        {
            "cell_type": "markdown",
            "id": "3f93854a-f516-48bd-9d7b-4c5a05abbf1e",
            "metadata": {},
            "source": "### Community area(number) most crime prone"
        },
        {
            "cell_type": "code",
            "execution_count": 17,
            "id": "9d239fb8-915e-4348-9831-40bf302c9bae",
            "metadata": {},
            "outputs": [
                {
                    "name": "stdout",
                    "output_type": "stream",
                    "text": " * ibm_db_sa://hkj71391:***@54a2f15b-5c0f-46df-8954-7e38e612c2bd.c1ogj3sd0tgtu0lqde00.databases.appdomain.cloud:32733/bludb\nDone.\n"
                },
                {
                    "data": {
                        "text/html": "<table>\n    <tr>\n        <th>community_area_number</th>\n    </tr>\n    <tr>\n        <td>25</td>\n    </tr>\n</table>",
                        "text/plain": "[(25,)]"
                    },
                    "execution_count": 17,
                    "metadata": {},
                    "output_type": "execute_result"
                }
            ],
            "source": "%%sql\nselect community_area_number from (\nselect community_area_number, count(community_area_number) as number_cases from CRIME_DATA\ngroup by community_area_number\norder by number_cases DESC\nlimit 1);"
        },
        {
            "cell_type": "markdown",
            "id": "eb445475-8e1f-4dcc-8b9b-4e87c4fc7415",
            "metadata": {},
            "source": "### Using a sub-query to find the name of the community area with highest hardship index"
        },
        {
            "cell_type": "code",
            "execution_count": 18,
            "id": "547ae4a8-c28c-4672-afdf-2ba05a6deeb7",
            "metadata": {},
            "outputs": [
                {
                    "name": "stdout",
                    "output_type": "stream",
                    "text": " * ibm_db_sa://hkj71391:***@54a2f15b-5c0f-46df-8954-7e38e612c2bd.c1ogj3sd0tgtu0lqde00.databases.appdomain.cloud:32733/bludb\nDone.\n"
                },
                {
                    "data": {
                        "text/html": "<table>\n    <tr>\n        <th>community_area_name</th>\n    </tr>\n    <tr>\n        <td>Riverdale</td>\n    </tr>\n</table>",
                        "text/plain": "[('Riverdale',)]"
                    },
                    "execution_count": 18,
                    "metadata": {},
                    "output_type": "execute_result"
                }
            ],
            "source": "%%sql\nselect community_area_name from CENSUS_DATA where hardship_index = (select MAX(hardship_index) from CENSUS_DATA);"
        },
        {
            "cell_type": "markdown",
            "id": "45e3adea-e24c-47a0-b701-cb962080dc33",
            "metadata": {},
            "source": "### Using sub-query to determine the Community Area Name with most number of crimes"
        },
        {
            "cell_type": "code",
            "execution_count": 19,
            "id": "1ded4414-9575-481c-9d10-00ae3fdc3483",
            "metadata": {},
            "outputs": [
                {
                    "name": "stdout",
                    "output_type": "stream",
                    "text": " * ibm_db_sa://hkj71391:***@54a2f15b-5c0f-46df-8954-7e38e612c2bd.c1ogj3sd0tgtu0lqde00.databases.appdomain.cloud:32733/bludb\nDone.\n"
                },
                {
                    "data": {
                        "text/html": "<table>\n    <tr>\n        <th>community_area_name</th>\n    </tr>\n    <tr>\n        <td>Austin</td>\n    </tr>\n</table>",
                        "text/plain": "[('Austin',)]"
                    },
                    "execution_count": 19,
                    "metadata": {},
                    "output_type": "execute_result"
                }
            ],
            "source": "%%sql\nselect community_area_name from CENSUS_DATA CE where CE.community_area_number =\n    (select community_area_number from\n        (select community_area_number, count(community_area_number) as number_cases from CRIME_DATA\n        group by community_area_number\n        order by number_cases DESC\n        limit 1)\n)\n;"
        }
    ],
    "metadata": {
        "kernelspec": {
            "display_name": "Python 3.8",
            "language": "python",
            "name": "python3"
        },
        "language_info": {
            "codemirror_mode": {
                "name": "ipython",
                "version": 3
            },
            "file_extension": ".py",
            "mimetype": "text/x-python",
            "name": "python",
            "nbconvert_exporter": "python",
            "pygments_lexer": "ipython3",
            "version": "3.8.11"
        }
    },
    "nbformat": 4,
    "nbformat_minor": 5
}
